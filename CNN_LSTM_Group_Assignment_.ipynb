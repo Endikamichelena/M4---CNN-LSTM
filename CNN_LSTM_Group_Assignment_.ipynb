{
  "nbformat": 4,
  "nbformat_minor": 0,
  "metadata": {
    "colab": {
      "provenance": [],
      "toc_visible": true
    },
    "kernelspec": {
      "name": "python3",
      "display_name": "Python 3"
    },
    "language_info": {
      "name": "python"
    }
  },
  "cells": [
    {
      "cell_type": "markdown",
      "source": [
        "# CNN"
      ],
      "metadata": {
        "id": "kHLGkkddDJmv"
      }
    },
    {
      "cell_type": "markdown",
      "source": [
        "## 1st variation"
      ],
      "metadata": {
        "id": "vfKTLcMh7v-R"
      }
    },
    {
      "cell_type": "code",
      "execution_count": 79,
      "metadata": {
        "id": "EiF-CEj4Zh90"
      },
      "outputs": [],
      "source": [
        "import torch\n",
        "import torch.nn as nn\n",
        "import torch.nn.functional as F\n",
        "import torchvision\n",
        "import torchvision.transforms as transforms\n",
        "import torchvision.datasets as datasets\n",
        "import matplotlib.pyplot as plt\n",
        "import numpy as np\n",
        "\n",
        "\n",
        "# Device configuration\n",
        "device = torch.device('cuda' if torch.cuda.is_available() else 'cpu')"
      ]
    },
    {
      "cell_type": "code",
      "source": [
        "# Hyper-parameters of the model\n",
        "num_epochs = 4\n",
        "batch_size = 4\n",
        "learning_rate = 0.003"
      ],
      "metadata": {
        "id": "3sgqgfiHdQ92"
      },
      "execution_count": 80,
      "outputs": []
    },
    {
      "cell_type": "code",
      "source": [
        "# We transform them to Tensors of normalized range [-1, 1]\n",
        "transform = transforms.Compose(\n",
        "    [transforms.ToTensor(),   \n",
        "     transforms.Normalize((0.5), (0.5))])"
      ],
      "metadata": {
        "id": "jNzVJbcopwyR"
      },
      "execution_count": 81,
      "outputs": []
    },
    {
      "cell_type": "code",
      "source": [
        "train_dataset = torchvision.datasets.MNIST(root='path/to/dataset', download=True, transform=transform)\n",
        "\n",
        "test_dataset = torchvision.datasets.MNIST(root='path/to/dataset', download=True, transform=transform)"
      ],
      "metadata": {
        "id": "hmNbGgpoeCqA"
      },
      "execution_count": 82,
      "outputs": []
    },
    {
      "cell_type": "code",
      "source": [
        "type(train_dataset.data)"
      ],
      "metadata": {
        "colab": {
          "base_uri": "https://localhost:8080/"
        },
        "id": "phQYSm8quHyu",
        "outputId": "124f03d1-be57-4347-ae36-82fd31208d90"
      },
      "execution_count": 83,
      "outputs": [
        {
          "output_type": "execute_result",
          "data": {
            "text/plain": [
              "torch.Tensor"
            ]
          },
          "metadata": {},
          "execution_count": 83
        }
      ]
    },
    {
      "cell_type": "code",
      "source": [
        "train_loader = torch.utils.data.DataLoader(train_dataset, batch_size = batch_size, shuffle=True)\n",
        "\n",
        "test_loader = torch.utils.data.DataLoader(test_dataset, batch_size = batch_size, shuffle=False)\n",
        "\n",
        "classes = ('zero', 'one', 'two', 'three', 'four', 'five', 'six', 'seven', 'eight', 'nine')"
      ],
      "metadata": {
        "id": "rlbE2P7QfmtQ"
      },
      "execution_count": 84,
      "outputs": []
    },
    {
      "cell_type": "code",
      "source": [
        "train_loader"
      ],
      "metadata": {
        "colab": {
          "base_uri": "https://localhost:8080/"
        },
        "id": "_SgC6t9muRjD",
        "outputId": "30a5e606-8517-453f-e5d7-9405c5d1c4da"
      },
      "execution_count": 85,
      "outputs": [
        {
          "output_type": "execute_result",
          "data": {
            "text/plain": [
              "<torch.utils.data.dataloader.DataLoader at 0x7f10aaa04e20>"
            ]
          },
          "metadata": {},
          "execution_count": 85
        }
      ]
    },
    {
      "cell_type": "code",
      "source": [
        "# implement conv net\n",
        "class ConvNet(nn.Module):\n",
        "    def __init__(self):\n",
        "        super(ConvNet, self).__init__()\n",
        "        self.conv1 = nn.Conv2d(1, 6, 4) #1 channels, 6 filters, 4x4 filter size\n",
        "        self.pool = nn.MaxPool2d(2,2) #size 2X2, stride: 2\n",
        "        self.conv2 = nn.Conv2d(6, 16, 4)\n",
        "        self.fc1 = nn.Linear(16*4*4, 120) #16*4*4= number of output channels * dimension of the output layer after feature learning; 120 manually set as outcome of the \n",
        "        self.fc2 = nn.Linear(120, 84)\n",
        "        self.fc3 = nn.Linear(84, 10) #the output dimension (in our case 10) needs to be equal to the number of classes\n",
        "    \n",
        "    def forward(self, x):\n",
        "        x = self.pool(F.relu(self.conv1(x)))\n",
        "        x = self.pool(F.relu(self.conv2(x)))\n",
        "        x = x.view(-1, 16*4*4) #torch.view() function freshape the input tensor\n",
        "        x = F.relu(self.fc1(x))\n",
        "        x = F.relu(self.fc2(x))\n",
        "        x = self.fc3(x)\n",
        "        return x\n",
        "    \n",
        "model = ConvNet().to(device)"
      ],
      "metadata": {
        "id": "BMiO_ClLg_19"
      },
      "execution_count": 86,
      "outputs": []
    },
    {
      "cell_type": "code",
      "source": [
        "criterion = nn.CrossEntropyLoss() #CrossEntropyLoss already includes SoftMax\n",
        "optimizer = torch.optim.SGD(model.parameters(), lr=learning_rate) # Try Adam optimizer instead"
      ],
      "metadata": {
        "id": "1tkg6d-MmRau"
      },
      "execution_count": 87,
      "outputs": []
    },
    {
      "cell_type": "code",
      "source": [
        "n_total_steps = len(train_loader)\n",
        "for epoch in range(num_epochs):\n",
        "    for i, (images, labels) in enumerate(train_loader):\n",
        "\n",
        "        images = images.to(device)\n",
        "        labels = labels.to(device)\n",
        "\n",
        "        # Forward pass\n",
        "        outputs = model(images)\n",
        "        loss = criterion(outputs, labels)\n",
        "        \n",
        "        # Backward and optimize\n",
        "        optimizer.zero_grad() #with zero_grad() we ensure that the gradients are properly reset to zero at the start of each iteration\n",
        "        loss.backward()\n",
        "        optimizer.step()\n",
        "        #wandb.log({\"loss\": loss})  uncomment this line if you want to send data to weights and biases interface\n",
        "\n",
        "\n",
        "        if (i+1) % 2000 == 0:\n",
        "            print (f'Epoch [{epoch+1}/{num_epochs}], Step [{i+1}/{n_total_steps}], Loss: {loss.item():.4f}')\n",
        "            # Calculate average accuracy for every 2000 steps\n",
        "            model.eval()\n",
        "            with torch.no_grad():\n",
        "                correct = 0\n",
        "                total = 0\n",
        "                for images, labels in test_loader:\n",
        "                    images = images.to(device)\n",
        "                    labels = labels.to(device)\n",
        "                    outputs = model(images)\n",
        "                    _, predicted = torch.max(outputs.data, 1)\n",
        "                    total += labels.size(0)\n",
        "                    correct += (predicted == labels).sum().item()\n",
        "                accuracy = correct / total\n",
        "                #wandb.log({\"accuracy\": accuracy}) uncomment this line if you want to send data to weights and biases interface\n",
        "        \n",
        "print('Finished Training')\n",
        "PATH = './cnn.pth'\n",
        "torch.save(model.state_dict(), PATH)"
      ],
      "metadata": {
        "colab": {
          "base_uri": "https://localhost:8080/"
        },
        "id": "CgTEn9ZVmSrJ",
        "outputId": "082d80be-e125-4b2e-862b-9a430f1a4146"
      },
      "execution_count": 88,
      "outputs": [
        {
          "output_type": "stream",
          "name": "stdout",
          "text": [
            "Epoch [1/4], Step [2000/15000], Loss: 1.3357\n",
            "Epoch [1/4], Step [4000/15000], Loss: 0.1473\n",
            "Epoch [1/4], Step [6000/15000], Loss: 0.0516\n",
            "Epoch [1/4], Step [8000/15000], Loss: 0.0096\n",
            "Epoch [1/4], Step [10000/15000], Loss: 0.1108\n",
            "Epoch [1/4], Step [12000/15000], Loss: 0.0275\n",
            "Epoch [1/4], Step [14000/15000], Loss: 0.0411\n",
            "Epoch [2/4], Step [2000/15000], Loss: 0.0146\n",
            "Epoch [2/4], Step [4000/15000], Loss: 0.4692\n",
            "Epoch [2/4], Step [6000/15000], Loss: 0.0015\n",
            "Epoch [2/4], Step [8000/15000], Loss: 0.0018\n",
            "Epoch [2/4], Step [10000/15000], Loss: 0.5999\n",
            "Epoch [2/4], Step [12000/15000], Loss: 0.0043\n",
            "Epoch [2/4], Step [14000/15000], Loss: 0.0060\n",
            "Epoch [3/4], Step [2000/15000], Loss: 0.1193\n",
            "Epoch [3/4], Step [4000/15000], Loss: 0.0018\n",
            "Epoch [3/4], Step [6000/15000], Loss: 0.0040\n",
            "Epoch [3/4], Step [8000/15000], Loss: 0.0031\n",
            "Epoch [3/4], Step [10000/15000], Loss: 0.0659\n",
            "Epoch [3/4], Step [12000/15000], Loss: 0.0049\n",
            "Epoch [3/4], Step [14000/15000], Loss: 0.0446\n",
            "Epoch [4/4], Step [2000/15000], Loss: 0.0007\n",
            "Epoch [4/4], Step [4000/15000], Loss: 0.0055\n",
            "Epoch [4/4], Step [6000/15000], Loss: 0.0017\n",
            "Epoch [4/4], Step [8000/15000], Loss: 0.0012\n",
            "Epoch [4/4], Step [10000/15000], Loss: 0.0691\n",
            "Epoch [4/4], Step [12000/15000], Loss: 0.0079\n",
            "Epoch [4/4], Step [14000/15000], Loss: 0.0015\n",
            "Finished Training\n"
          ]
        }
      ]
    },
    {
      "cell_type": "code",
      "source": [
        "with torch.no_grad():\n",
        "    n_correct = 0\n",
        "    n_samples = 0\n",
        "    n_class_correct = [0 for i in range(10)]\n",
        "    n_class_samples = [0 for i in range(10)]\n",
        "    for images, labels in test_loader:\n",
        "        images = images.to(device)\n",
        "        labels = labels.to(device)\n",
        "        outputs = model(images)\n",
        "        # max returns (value ,index)\n",
        "        _, predicted = torch.max(outputs, 1)\n",
        "        n_samples += labels.size(0)\n",
        "        n_correct += (predicted == labels).sum().item()\n",
        "        \n",
        "        for i in range(batch_size):\n",
        "            label = labels[i]\n",
        "            pred = predicted[i]\n",
        "            if (label == pred):\n",
        "                n_class_correct[label] += 1\n",
        "            n_class_samples[label] += 1\n",
        "\n",
        "    acc = 100.0 * n_correct / n_samples\n",
        "    print(f'Accuracy of the network: {acc} %')\n",
        "\n",
        "    for i in range(10):\n",
        "        acc = 100.0 * n_class_correct[i] / n_class_samples[i]\n",
        "        print(f'Accuracy of {classes[i]}: {acc} %')"
      ],
      "metadata": {
        "colab": {
          "base_uri": "https://localhost:8080/"
        },
        "id": "NMceKvPeBRD1",
        "outputId": "090e7e16-3d1d-46c9-f9b8-05d9600852bd"
      },
      "execution_count": 89,
      "outputs": [
        {
          "output_type": "stream",
          "name": "stdout",
          "text": [
            "Accuracy of the network: 98.5 %\n",
            "Accuracy of zero: 99.07141651190275 %\n",
            "Accuracy of one: 99.74784930287748 %\n",
            "Accuracy of two: 98.30480026854649 %\n",
            "Accuracy of three: 99.11923014190181 %\n",
            "Accuracy of four: 99.31530297843204 %\n",
            "Accuracy of five: 98.32134292565948 %\n",
            "Accuracy of six: 99.42548158161541 %\n",
            "Accuracy of seven: 98.41979249800478 %\n",
            "Accuracy of eight: 98.53016578362673 %\n",
            "Accuracy of nine: 94.57051605311817 %\n"
          ]
        }
      ]
    },
    {
      "cell_type": "markdown",
      "source": [
        "## 2nd variation"
      ],
      "metadata": {
        "id": "mcVBz7oq7-WX"
      }
    },
    {
      "cell_type": "code",
      "source": [
        "# Hyper-parameters of the model\n",
        "# increase the number of epochs to see if the model can learn more from the data.\n",
        "num_epochs = 6  \n",
        "batch_size = 4\n",
        "learning_rate = 0.003"
      ],
      "metadata": {
        "id": "eMkznqoC8Ebt"
      },
      "execution_count": 90,
      "outputs": []
    },
    {
      "cell_type": "code",
      "source": [
        "# training the network again\n",
        "n_total_steps = len(train_loader)\n",
        "for epoch in range(num_epochs):\n",
        "    for i, (images, labels) in enumerate(train_loader):\n",
        " \n",
        "        images = images.to(device)\n",
        "        labels = labels.to(device)\n",
        "\n",
        "        # Forward pass\n",
        "        outputs = model(images)\n",
        "        loss = criterion(outputs, labels)\n",
        "        \n",
        "        # Backward and optimize\n",
        "        optimizer.zero_grad() #with zero_grad() we ensure that the gradients are properly reset to zero at the start of each iteration\n",
        "        loss.backward()\n",
        "        optimizer.step()\n",
        "        #wandb.log({\"loss\": loss})  uncomment this line if you want to send data to weights and biases interface\n",
        "\n",
        "\n",
        "        if (i+1) % 2000 == 0:\n",
        "            print (f'Epoch [{epoch+1}/{num_epochs}], Step [{i+1}/{n_total_steps}], Loss: {loss.item():.4f}')\n",
        "            # Calculate average accuracy for every 2000 steps\n",
        "            model.eval()\n",
        "            with torch.no_grad():\n",
        "                correct = 0\n",
        "                total = 0\n",
        "                for images, labels in test_loader:\n",
        "                    images = images.to(device)\n",
        "                    labels = labels.to(device)\n",
        "                    outputs = model(images)\n",
        "                    _, predicted = torch.max(outputs.data, 1)\n",
        "                    total += labels.size(0)\n",
        "                    correct += (predicted == labels).sum().item()\n",
        "                accuracy = correct / total\n",
        "                #wandb.log({\"accuracy\": accuracy}) uncomment this line if you want to send data to weights and biases interface\n",
        "        \n",
        "print('Finished Training')\n",
        "PATH = './cnn.pth'\n",
        "torch.save(model.state_dict(), PATH)"
      ],
      "metadata": {
        "colab": {
          "base_uri": "https://localhost:8080/"
        },
        "id": "gzoCGi-A_c_V",
        "outputId": "d87bd8b0-3d05-4206-b133-5d31da43c88f"
      },
      "execution_count": 91,
      "outputs": [
        {
          "output_type": "stream",
          "name": "stdout",
          "text": [
            "Epoch [1/6], Step [2000/15000], Loss: 0.0003\n",
            "Epoch [1/6], Step [4000/15000], Loss: 0.0200\n",
            "Epoch [1/6], Step [6000/15000], Loss: 0.0109\n",
            "Epoch [1/6], Step [8000/15000], Loss: 0.0012\n",
            "Epoch [1/6], Step [10000/15000], Loss: 0.0047\n",
            "Epoch [1/6], Step [12000/15000], Loss: 0.0007\n",
            "Epoch [1/6], Step [14000/15000], Loss: 0.0003\n",
            "Epoch [2/6], Step [2000/15000], Loss: 0.0057\n",
            "Epoch [2/6], Step [4000/15000], Loss: 0.0046\n",
            "Epoch [2/6], Step [6000/15000], Loss: 0.0001\n",
            "Epoch [2/6], Step [8000/15000], Loss: 0.0029\n",
            "Epoch [2/6], Step [10000/15000], Loss: 0.0009\n",
            "Epoch [2/6], Step [12000/15000], Loss: 0.4316\n",
            "Epoch [2/6], Step [14000/15000], Loss: 0.1119\n",
            "Epoch [3/6], Step [2000/15000], Loss: 0.0000\n",
            "Epoch [3/6], Step [4000/15000], Loss: 0.0000\n",
            "Epoch [3/6], Step [6000/15000], Loss: 0.0023\n",
            "Epoch [3/6], Step [8000/15000], Loss: 0.0007\n",
            "Epoch [3/6], Step [10000/15000], Loss: 0.0019\n",
            "Epoch [3/6], Step [12000/15000], Loss: 0.0003\n",
            "Epoch [3/6], Step [14000/15000], Loss: 0.0193\n",
            "Epoch [4/6], Step [2000/15000], Loss: 0.0050\n",
            "Epoch [4/6], Step [4000/15000], Loss: 0.6837\n",
            "Epoch [4/6], Step [6000/15000], Loss: 0.0005\n",
            "Epoch [4/6], Step [8000/15000], Loss: 0.0018\n",
            "Epoch [4/6], Step [10000/15000], Loss: 0.0000\n",
            "Epoch [4/6], Step [12000/15000], Loss: 0.0630\n",
            "Epoch [4/6], Step [14000/15000], Loss: 0.0022\n",
            "Epoch [5/6], Step [2000/15000], Loss: 0.0004\n",
            "Epoch [5/6], Step [4000/15000], Loss: 0.0000\n",
            "Epoch [5/6], Step [6000/15000], Loss: 0.0377\n",
            "Epoch [5/6], Step [8000/15000], Loss: 0.0000\n",
            "Epoch [5/6], Step [10000/15000], Loss: 0.0010\n",
            "Epoch [5/6], Step [12000/15000], Loss: 0.0013\n",
            "Epoch [5/6], Step [14000/15000], Loss: 0.0019\n",
            "Epoch [6/6], Step [2000/15000], Loss: 0.1328\n",
            "Epoch [6/6], Step [4000/15000], Loss: 0.0026\n",
            "Epoch [6/6], Step [6000/15000], Loss: 0.0095\n",
            "Epoch [6/6], Step [8000/15000], Loss: 0.0053\n",
            "Epoch [6/6], Step [10000/15000], Loss: 0.0000\n",
            "Epoch [6/6], Step [12000/15000], Loss: 0.0940\n",
            "Epoch [6/6], Step [14000/15000], Loss: 0.0000\n",
            "Finished Training\n"
          ]
        }
      ]
    },
    {
      "cell_type": "code",
      "source": [
        "with torch.no_grad():\n",
        "    n_correct = 0\n",
        "    n_samples = 0\n",
        "    n_class_correct = [0 for i in range(10)]\n",
        "    n_class_samples = [0 for i in range(10)]\n",
        "    for images, labels in test_loader:\n",
        "        images = images.to(device)\n",
        "        labels = labels.to(device)\n",
        "        outputs = model(images)\n",
        "        # max returns (value ,index)\n",
        "        _, predicted = torch.max(outputs, 1)\n",
        "        n_samples += labels.size(0)\n",
        "        n_correct += (predicted == labels).sum().item()\n",
        "        \n",
        "        for i in range(batch_size):\n",
        "            label = labels[i]\n",
        "            pred = predicted[i]\n",
        "            if (label == pred):\n",
        "                n_class_correct[label] += 1\n",
        "            n_class_samples[label] += 1\n",
        "\n",
        "    acc = 100.0 * n_correct / n_samples\n",
        "    print(f'Accuracy of the network: {acc} %')\n",
        "\n",
        "    for i in range(10):\n",
        "        acc = 100.0 * n_class_correct[i] / n_class_samples[i]\n",
        "        print(f'Accuracy of {classes[i]}: {acc} %')"
      ],
      "metadata": {
        "colab": {
          "base_uri": "https://localhost:8080/"
        },
        "id": "WTy9yhAS_nPd",
        "outputId": "5967a933-d60d-42b7-bf12-84ea2f6a4628"
      },
      "execution_count": 92,
      "outputs": [
        {
          "output_type": "stream",
          "name": "stdout",
          "text": [
            "Accuracy of the network: 99.25 %\n",
            "Accuracy of zero: 99.0376498396083 %\n",
            "Accuracy of one: 99.68851972708396 %\n",
            "Accuracy of two: 98.10339039946291 %\n",
            "Accuracy of three: 99.39650954167347 %\n",
            "Accuracy of four: 98.92160219103047 %\n",
            "Accuracy of five: 99.31746910164176 %\n",
            "Accuracy of six: 99.64515038864481 %\n",
            "Accuracy of seven: 99.05826017557861 %\n",
            "Accuracy of eight: 99.5727226115194 %\n",
            "Accuracy of nine: 99.71423768700622 %\n"
          ]
        }
      ]
    },
    {
      "cell_type": "markdown",
      "source": [
        "# LSTM"
      ],
      "metadata": {
        "id": "Fcb1uMK9DQDs"
      }
    },
    {
      "cell_type": "markdown",
      "source": [
        "## 1st variation"
      ],
      "metadata": {
        "id": "-YloxCtYUikE"
      }
    },
    {
      "cell_type": "code",
      "source": [
        "# import libraries\n",
        "import numpy as np\n",
        "import pandas as pd"
      ],
      "metadata": {
        "id": "F_0bmlZvDuPe"
      },
      "execution_count": 93,
      "outputs": []
    },
    {
      "cell_type": "code",
      "source": [
        "# data \n",
        "df = pd.read_csv(\"https://raw.githubusercontent.com/aaubs/ds-master/main/data/air_passengers.csv\")"
      ],
      "metadata": {
        "id": "xZqGSgOxDqn1"
      },
      "execution_count": 94,
      "outputs": []
    },
    {
      "cell_type": "code",
      "source": [
        "df.head()"
      ],
      "metadata": {
        "colab": {
          "base_uri": "https://localhost:8080/",
          "height": 201
        },
        "id": "zGLX-AfgD19N",
        "outputId": "f01af06c-d4f9-477b-9e32-ee49bfce4df5"
      },
      "execution_count": 95,
      "outputs": [
        {
          "output_type": "execute_result",
          "data": {
            "text/plain": [
              "     Month  #Passengers\n",
              "0  1949-01          112\n",
              "1  1949-02          118\n",
              "2  1949-03          132\n",
              "3  1949-04          129\n",
              "4  1949-05          121"
            ],
            "text/html": [
              "\n",
              "  <div id=\"df-4c641070-0af8-4191-a00f-ddbf9f07e630\">\n",
              "    <div class=\"colab-df-container\">\n",
              "      <div>\n",
              "<style scoped>\n",
              "    .dataframe tbody tr th:only-of-type {\n",
              "        vertical-align: middle;\n",
              "    }\n",
              "\n",
              "    .dataframe tbody tr th {\n",
              "        vertical-align: top;\n",
              "    }\n",
              "\n",
              "    .dataframe thead th {\n",
              "        text-align: right;\n",
              "    }\n",
              "</style>\n",
              "<table border=\"1\" class=\"dataframe\">\n",
              "  <thead>\n",
              "    <tr style=\"text-align: right;\">\n",
              "      <th></th>\n",
              "      <th>Month</th>\n",
              "      <th>#Passengers</th>\n",
              "    </tr>\n",
              "  </thead>\n",
              "  <tbody>\n",
              "    <tr>\n",
              "      <th>0</th>\n",
              "      <td>1949-01</td>\n",
              "      <td>112</td>\n",
              "    </tr>\n",
              "    <tr>\n",
              "      <th>1</th>\n",
              "      <td>1949-02</td>\n",
              "      <td>118</td>\n",
              "    </tr>\n",
              "    <tr>\n",
              "      <th>2</th>\n",
              "      <td>1949-03</td>\n",
              "      <td>132</td>\n",
              "    </tr>\n",
              "    <tr>\n",
              "      <th>3</th>\n",
              "      <td>1949-04</td>\n",
              "      <td>129</td>\n",
              "    </tr>\n",
              "    <tr>\n",
              "      <th>4</th>\n",
              "      <td>1949-05</td>\n",
              "      <td>121</td>\n",
              "    </tr>\n",
              "  </tbody>\n",
              "</table>\n",
              "</div>\n",
              "      <button class=\"colab-df-convert\" onclick=\"convertToInteractive('df-4c641070-0af8-4191-a00f-ddbf9f07e630')\"\n",
              "              title=\"Convert this dataframe to an interactive table.\"\n",
              "              style=\"display:none;\">\n",
              "        \n",
              "  <svg xmlns=\"http://www.w3.org/2000/svg\" height=\"24px\"viewBox=\"0 0 24 24\"\n",
              "       width=\"24px\">\n",
              "    <path d=\"M0 0h24v24H0V0z\" fill=\"none\"/>\n",
              "    <path d=\"M18.56 5.44l.94 2.06.94-2.06 2.06-.94-2.06-.94-.94-2.06-.94 2.06-2.06.94zm-11 1L8.5 8.5l.94-2.06 2.06-.94-2.06-.94L8.5 2.5l-.94 2.06-2.06.94zm10 10l.94 2.06.94-2.06 2.06-.94-2.06-.94-.94-2.06-.94 2.06-2.06.94z\"/><path d=\"M17.41 7.96l-1.37-1.37c-.4-.4-.92-.59-1.43-.59-.52 0-1.04.2-1.43.59L10.3 9.45l-7.72 7.72c-.78.78-.78 2.05 0 2.83L4 21.41c.39.39.9.59 1.41.59.51 0 1.02-.2 1.41-.59l7.78-7.78 2.81-2.81c.8-.78.8-2.07 0-2.86zM5.41 20L4 18.59l7.72-7.72 1.47 1.35L5.41 20z\"/>\n",
              "  </svg>\n",
              "      </button>\n",
              "      \n",
              "  <style>\n",
              "    .colab-df-container {\n",
              "      display:flex;\n",
              "      flex-wrap:wrap;\n",
              "      gap: 12px;\n",
              "    }\n",
              "\n",
              "    .colab-df-convert {\n",
              "      background-color: #E8F0FE;\n",
              "      border: none;\n",
              "      border-radius: 50%;\n",
              "      cursor: pointer;\n",
              "      display: none;\n",
              "      fill: #1967D2;\n",
              "      height: 32px;\n",
              "      padding: 0 0 0 0;\n",
              "      width: 32px;\n",
              "    }\n",
              "\n",
              "    .colab-df-convert:hover {\n",
              "      background-color: #E2EBFA;\n",
              "      box-shadow: 0px 1px 2px rgba(60, 64, 67, 0.3), 0px 1px 3px 1px rgba(60, 64, 67, 0.15);\n",
              "      fill: #174EA6;\n",
              "    }\n",
              "\n",
              "    [theme=dark] .colab-df-convert {\n",
              "      background-color: #3B4455;\n",
              "      fill: #D2E3FC;\n",
              "    }\n",
              "\n",
              "    [theme=dark] .colab-df-convert:hover {\n",
              "      background-color: #434B5C;\n",
              "      box-shadow: 0px 1px 3px 1px rgba(0, 0, 0, 0.15);\n",
              "      filter: drop-shadow(0px 1px 2px rgba(0, 0, 0, 0.3));\n",
              "      fill: #FFFFFF;\n",
              "    }\n",
              "  </style>\n",
              "\n",
              "      <script>\n",
              "        const buttonEl =\n",
              "          document.querySelector('#df-4c641070-0af8-4191-a00f-ddbf9f07e630 button.colab-df-convert');\n",
              "        buttonEl.style.display =\n",
              "          google.colab.kernel.accessAllowed ? 'block' : 'none';\n",
              "\n",
              "        async function convertToInteractive(key) {\n",
              "          const element = document.querySelector('#df-4c641070-0af8-4191-a00f-ddbf9f07e630');\n",
              "          const dataTable =\n",
              "            await google.colab.kernel.invokeFunction('convertToInteractive',\n",
              "                                                     [key], {});\n",
              "          if (!dataTable) return;\n",
              "\n",
              "          const docLinkHtml = 'Like what you see? Visit the ' +\n",
              "            '<a target=\"_blank\" href=https://colab.research.google.com/notebooks/data_table.ipynb>data table notebook</a>'\n",
              "            + ' to learn more about interactive tables.';\n",
              "          element.innerHTML = '';\n",
              "          dataTable['output_type'] = 'display_data';\n",
              "          await google.colab.output.renderOutput(dataTable, element);\n",
              "          const docLink = document.createElement('div');\n",
              "          docLink.innerHTML = docLinkHtml;\n",
              "          element.appendChild(docLink);\n",
              "        }\n",
              "      </script>\n",
              "    </div>\n",
              "  </div>\n",
              "  "
            ]
          },
          "metadata": {},
          "execution_count": 95
        }
      ]
    },
    {
      "cell_type": "code",
      "source": [
        "df.info()"
      ],
      "metadata": {
        "colab": {
          "base_uri": "https://localhost:8080/"
        },
        "id": "TMNvK8qZEsSl",
        "outputId": "62d33d20-21f8-4a62-8dfd-ef0d01897768"
      },
      "execution_count": 96,
      "outputs": [
        {
          "output_type": "stream",
          "name": "stdout",
          "text": [
            "<class 'pandas.core.frame.DataFrame'>\n",
            "RangeIndex: 144 entries, 0 to 143\n",
            "Data columns (total 2 columns):\n",
            " #   Column       Non-Null Count  Dtype \n",
            "---  ------       --------------  ----- \n",
            " 0   Month        144 non-null    object\n",
            " 1   #Passengers  144 non-null    int64 \n",
            "dtypes: int64(1), object(1)\n",
            "memory usage: 2.4+ KB\n"
          ]
        }
      ]
    },
    {
      "cell_type": "code",
      "source": [
        "X = df.iloc[:, 1:2]\n",
        "y = df.iloc[:, 1:2] "
      ],
      "metadata": {
        "id": "LURMMLVPD2sh"
      },
      "execution_count": 97,
      "outputs": []
    },
    {
      "cell_type": "code",
      "source": [
        "from sklearn.preprocessing import StandardScaler, MinMaxScaler\n",
        "mm = MinMaxScaler()\n",
        "ss = StandardScaler()\n",
        "\n",
        "\n",
        "X_ss = ss.fit_transform(X)\n",
        "y_mm = mm.fit_transform(y)"
      ],
      "metadata": {
        "id": "YD7PhMeWEkLX"
      },
      "execution_count": 98,
      "outputs": []
    },
    {
      "cell_type": "code",
      "source": [
        "X_train = X_ss[:50, :]\n",
        "X_test = X_ss[50:, :]\n",
        "\n",
        "y_train = y_mm[:50, :]\n",
        "y_test = y_mm[50:, :] "
      ],
      "metadata": {
        "id": "NdaX3_ltF-z8"
      },
      "execution_count": 99,
      "outputs": []
    },
    {
      "cell_type": "code",
      "source": [
        "print(\"Training Shape\", X_train.shape, y_train.shape)\n",
        "print(\"Testing Shape\", X_test.shape, y_test.shape) "
      ],
      "metadata": {
        "colab": {
          "base_uri": "https://localhost:8080/"
        },
        "id": "gVTrKSMyGLeh",
        "outputId": "ed2307b9-2f88-4572-e1d0-6d9006723ad6"
      },
      "execution_count": 100,
      "outputs": [
        {
          "output_type": "stream",
          "name": "stdout",
          "text": [
            "Training Shape (50, 1) (50, 1)\n",
            "Testing Shape (94, 1) (94, 1)\n"
          ]
        }
      ]
    },
    {
      "cell_type": "code",
      "source": [
        "# import required libraries\n",
        "import torch\n",
        "import pandas as pd\n",
        "import torch.nn as nn\n",
        "import torch.optim as optim\n",
        "import numpy as np\n",
        "from torch.utils.data import DataLoader, TensorDataset\n",
        "from sklearn.preprocessing import MinMaxScaler\n",
        "import matplotlib.pyplot as plt"
      ],
      "metadata": {
        "id": "w_RkYFFwGORd"
      },
      "execution_count": 101,
      "outputs": []
    },
    {
      "cell_type": "code",
      "source": [
        "# Split the data into training and testing sets\n",
        "train_data = TensorDataset(torch.from_numpy(X_train), torch.from_numpy(y_train))\n",
        "test_data = TensorDataset(torch.from_numpy(X_test), torch.from_numpy(y_test))\n",
        "\n",
        "train_loader = DataLoader(train_data, batch_size=1, shuffle=True)\n",
        "test_loader = DataLoader(test_data, batch_size=1, shuffle=False)"
      ],
      "metadata": {
        "id": "pFJFC0mjGSBk"
      },
      "execution_count": 102,
      "outputs": []
    },
    {
      "cell_type": "code",
      "source": [
        "# Initialize the LSTM model\n",
        "# Define the input size, hidden size and number of outputs\n",
        "input_size = 1\n",
        "hidden_size = 16\n",
        "output_size = 1\n",
        "num_epochs= 10\n",
        "\n",
        "# Define the LSTM model and Linear output fully connected layer\n",
        "lstm = nn.LSTM(input_size, hidden_size, batch_first=True)\n",
        "fc = nn.Linear(hidden_size, output_size)\n",
        "\n",
        "# Define the loss function and optimizer\n",
        "criterion = nn.MSELoss()\n",
        "optimizer = optim.SGD(lstm.parameters(), lr=0.01)"
      ],
      "metadata": {
        "id": "CkY4-AxLGZqH"
      },
      "execution_count": 103,
      "outputs": []
    },
    {
      "cell_type": "code",
      "source": [
        "# Initializing Hyperparameters\n",
        "num_epochs = 100\n",
        "train_losses = []\n",
        "test_losses = []\n",
        "\n",
        "# Loop over the number of epochs\n",
        "for epoch in range(num_epochs):\n",
        "    train_loss = 0\n",
        "    # Initialize the hidden state and the cell state\n",
        "    # The hidden state and the cell state reset to zero for every epoch\n",
        "    hs = torch.zeros(1, hidden_size)\n",
        "    cs = torch.zeros(1, hidden_size)\n",
        "\n",
        "    # Get the input and target at position i\n",
        "    for i, (data, label) in enumerate(train_loader):\n",
        "        \n",
        "        hidden = (hs, cs)\n",
        "        # Run the forward pass\n",
        "        output, hidden = lstm(data.float(), hidden)\n",
        "        output = fc(hidden[-1])\n",
        "        hs = hs.detach()\n",
        "        cs = cs.detach()\n",
        "\n",
        "        # 2. Network Evaluation\n",
        "        loss = criterion(output, label.float())\n",
        "\n",
        "        # 3. Gradient Calculation\n",
        "        loss.backward()\n",
        "\n",
        "        # 4. Back Propagation\n",
        "        optimizer.step()\n",
        "        optimizer.zero_grad()\n",
        "\n",
        "        train_loss += loss.item()\n",
        "\n",
        "    # Calculate the average training loss\n",
        "    train_loss = train_loss / len(train_loader)\n",
        "    train_losses.append(train_loss)\n",
        "\n",
        "# Plot the MSE loss for each epoch\n",
        "plt.plot(train_losses)\n",
        "plt.xlabel('Epoch')\n",
        "plt.ylabel('MSE Loss')\n",
        "plt.title('Training Loss over Epochs')\n",
        "plt.show()"
      ],
      "metadata": {
        "colab": {
          "base_uri": "https://localhost:8080/",
          "height": 294
        },
        "id": "smQbmasOGdBt",
        "outputId": "db4d200d-501e-4c0b-eb3d-b5e166ada327"
      },
      "execution_count": 104,
      "outputs": [
        {
          "output_type": "display_data",
          "data": {
            "text/plain": [
              "<Figure size 432x288 with 1 Axes>"
            ],
            "image/png": "[encoded data removed]"
          },
          "metadata": {
            "needs_background": "light"
          }
        }
      ]
    },
    {
      "cell_type": "code",
      "source": [
        "# Evaluate the LSTM model\n",
        "mse = 0\n",
        "\n",
        "#By wrapping the evaluation code in a with torch.no_grad() context, \n",
        "#you can avoid unnecessary memory usage and speed up the evaluation process.\n",
        "with torch.no_grad():\n",
        "    # Initialize the hidden state and the cell state\n",
        "    # The hidden state and the cell state reset to zero for every epoch\n",
        "    hs = torch.zeros(1, hidden_size)\n",
        "    cs = torch.zeros(1, hidden_size)\n",
        "\n",
        "    for data, label in test_loader:\n",
        "        hidden = (hs, cs)\n",
        "        output, hidden = lstm(data.float(), hidden)\n",
        "        output = fc(hidden[-1])\n",
        "        hs = hs.detach()\n",
        "        cs = cs.detach()\n",
        "        \n",
        "        mse += ((output - label)**2).mean().item()\n",
        "\n",
        "mse /= len(test_loader)\n",
        "print('Test MSE: {}'.format(mse))"
      ],
      "metadata": {
        "colab": {
          "base_uri": "https://localhost:8080/"
        },
        "id": "jSwtIyxkG9C0",
        "outputId": "aae3e844-db3f-460a-9cfa-5bcbb152bffe"
      },
      "execution_count": 105,
      "outputs": [
        {
          "output_type": "stream",
          "name": "stdout",
          "text": [
            "Test MSE: 0.14804886560854782\n"
          ]
        }
      ]
    },
    {
      "cell_type": "code",
      "source": [
        "output_list = []\n",
        "\n",
        "# Initialize the hidden state and the cell state\n",
        "# The hidden state and the cell state reset to zero for every epoch\n",
        "hs = torch.zeros(1, hidden_size)\n",
        "cs = torch.zeros(1, hidden_size)\n",
        "for i, (data, label) in enumerate(test_loader):\n",
        "    hidden = (hs, cs)\n",
        "    \n",
        "    # Run the forward pass\n",
        "    output, hidden = lstm(data.float(), hidden)\n",
        "    output = fc(hidden[-1])\n",
        "    hs = hs.detach()\n",
        "    cs = cs.detach()\n",
        "    output_list.append(output.detach().numpy()[0][0])\n",
        "    \n",
        "for i, (data, label) in enumerate(train_loader):\n",
        "    hidden = (hs, cs)\n",
        "\n",
        "    # Run the forward pass\n",
        "    output, hidden = lstm(data.float(), hidden)\n",
        "    output = fc(hidden[-1])\n",
        "    hs = hs.detach()\n",
        "    cs = cs.detach()\n",
        "    output_list.append(output.detach().numpy()[0][0])\n",
        "     "
      ],
      "metadata": {
        "id": "QijmSeN9HCsb"
      },
      "execution_count": 106,
      "outputs": []
    },
    {
      "cell_type": "code",
      "source": [
        "# train_predict = lstm(X_ss)#forward pass\n",
        "# data_predict = train_predict.data.numpy() #numpy conversion\n",
        "dataY_plot = y['#Passengers'].values\n",
        "# data_predict = output_list\n",
        "\n",
        "data_predict = mm.inverse_transform([output_list]) #reverse transformation\n",
        "# dataY_plot = mm.inverse_transform(dataY_plot)\n",
        "plt.figure(figsize=(10,6)) #plotting\n",
        "plt.axvline(x=200, c='r', linestyle='--') #size of the training set\n",
        "\n",
        "plt.plot(dataY_plot, label='Actuall Data') #actual plot\n",
        "plt.plot(data_predict[0], label='Predicted Data') #predicted plot\n",
        "plt.title('Time-Series Prediction')\n",
        "plt.legend()\n",
        "plt.show() "
      ],
      "metadata": {
        "colab": {
          "base_uri": "https://localhost:8080/",
          "height": 389
        },
        "id": "z-d7IiOzHNkR",
        "outputId": "4064d532-b441-4325-ff8a-c1fbd157fe96"
      },
      "execution_count": 107,
      "outputs": [
        {
          "output_type": "display_data",
          "data": {
            "text/plain": [
              "<Figure size 720x432 with 1 Axes>"
            ],
            "image/png": "[encoded data removed]"
          },
          "metadata": {
            "needs_background": "light"
          }
        }
      ]
    },
    {
      "cell_type": "code",
      "source": [
        "# Save the trained RNN model\n",
        "torch.save(lstm.state_dict(), 'lstm.pt')\n",
        "\n",
        "# Load the model\n",
        "rnn = nn.LSTM(input_size, hidden_size, batch_first=True)\n",
        "rnn.load_state_dict(torch.load('lstm.pt'))"
      ],
      "metadata": {
        "colab": {
          "base_uri": "https://localhost:8080/"
        },
        "id": "gFbM9_zPHTwO",
        "outputId": "926587ca-2019-458f-c5fb-b98d081b86e1"
      },
      "execution_count": 108,
      "outputs": [
        {
          "output_type": "execute_result",
          "data": {
            "text/plain": [
              "<All keys matched successfully>"
            ]
          },
          "metadata": {},
          "execution_count": 108
        }
      ]
    },
    {
      "cell_type": "markdown",
      "source": [
        "## 2nd variation"
      ],
      "metadata": {
        "id": "ooYWVsuIUq4K"
      }
    },
    {
      "cell_type": "code",
      "source": [
        "# Initializing Hyperparameters\n",
        "num_epochs = 500\n",
        "train_losses = []\n",
        "test_losses = []\n",
        "\n",
        "# Loop over the number of epochs\n",
        "for epoch in range(num_epochs):\n",
        "    train_loss = 0\n",
        "    # Initialize the hidden state and the cell state\n",
        "    # The hidden state and the cell state reset to zero for every epoch\n",
        "    hs = torch.zeros(1, hidden_size)\n",
        "    cs = torch.zeros(1, hidden_size)\n",
        "\n",
        "    # Get the input and target at position i\n",
        "    for i, (data, label) in enumerate(train_loader):\n",
        "        \n",
        "        hidden = (hs, cs)\n",
        "        # Run the forward pass\n",
        "        output, hidden = lstm(data.float(), hidden)\n",
        "        output = fc(hidden[-1])\n",
        "        hs = hs.detach()\n",
        "        cs = cs.detach()\n",
        "\n",
        "        # 2. Network Evaluation\n",
        "        loss = criterion(output, label.float())\n",
        "\n",
        "        # 3. Gradient Calculation\n",
        "        loss.backward()\n",
        "\n",
        "        # 4. Back Propagation\n",
        "        optimizer.step()\n",
        "        optimizer.zero_grad()\n",
        "\n",
        "        train_loss += loss.item()\n",
        "\n",
        "    # Calculate the average training loss\n",
        "    train_loss = train_loss / len(train_loader)\n",
        "    train_losses.append(train_loss)\n",
        "\n",
        "# Plot the MSE loss for each epoch\n",
        "plt.plot(train_losses)\n",
        "plt.xlabel('Epoch')\n",
        "plt.ylabel('MSE Loss')\n",
        "plt.title('Training Loss over Epochs')\n",
        "plt.show()"
      ],
      "metadata": {
        "colab": {
          "base_uri": "https://localhost:8080/",
          "height": 294
        },
        "id": "WmL_CBulUsH1",
        "outputId": "8f3c7a15-337a-4e39-8926-384c13b5967e"
      },
      "execution_count": 109,
      "outputs": [
        {
          "output_type": "display_data",
          "data": {
            "text/plain": [
              "<Figure size 432x288 with 1 Axes>"
            ],
            "image/png": "[encoded data removed]"
          },
          "metadata": {
            "needs_background": "light"
          }
        }
      ]
    },
    {
      "cell_type": "code",
      "source": [
        "# Evaluate the LSTM model\n",
        "mse = 0\n",
        "\n",
        "#By wrapping the evaluation code in a with torch.no_grad() context, \n",
        "#you can avoid unnecessary memory usage and speed up the evaluation process.\n",
        "with torch.no_grad():\n",
        "    # Initialize the hidden state and the cell state\n",
        "    # The hidden state and the cell state reset to zero for every epoch\n",
        "    hs = torch.zeros(1, hidden_size)\n",
        "    cs = torch.zeros(1, hidden_size)\n",
        "\n",
        "    for data, label in test_loader:\n",
        "        hidden = (hs, cs)\n",
        "        output, hidden = lstm(data.float(), hidden)\n",
        "        output = fc(hidden[-1])\n",
        "        hs = hs.detach()\n",
        "        cs = cs.detach()\n",
        "        \n",
        "        mse += ((output - label)**2).mean().item()\n",
        "\n",
        "mse /= len(test_loader)\n",
        "print('Test MSE: {}'.format(mse))"
      ],
      "metadata": {
        "colab": {
          "base_uri": "https://localhost:8080/"
        },
        "id": "lgDVtwkMU0-d",
        "outputId": "24199c63-6191-44b9-e408-bce7d1fbb08d"
      },
      "execution_count": 110,
      "outputs": [
        {
          "output_type": "stream",
          "name": "stdout",
          "text": [
            "Test MSE: 0.02595422320533597\n"
          ]
        }
      ]
    },
    {
      "cell_type": "code",
      "source": [
        "output_list = []\n",
        "\n",
        "# Initialize the hidden state and the cell state\n",
        "# The hidden state and the cell state reset to zero for every epoch\n",
        "hs = torch.zeros(1, hidden_size)\n",
        "cs = torch.zeros(1, hidden_size)\n",
        "for i, (data, label) in enumerate(test_loader):\n",
        "    hidden = (hs, cs)\n",
        "    \n",
        "    # Run the forward pass\n",
        "    output, hidden = lstm(data.float(), hidden)\n",
        "    output = fc(hidden[-1])\n",
        "    hs = hs.detach()\n",
        "    cs = cs.detach()\n",
        "    output_list.append(output.detach().numpy()[0][0])\n",
        "    \n",
        "for i, (data, label) in enumerate(train_loader):\n",
        "    hidden = (hs, cs)\n",
        "\n",
        "    # Run the forward pass\n",
        "    output, hidden = lstm(data.float(), hidden)\n",
        "    output = fc(hidden[-1])\n",
        "    hs = hs.detach()\n",
        "    cs = cs.detach()\n",
        "    output_list.append(output.detach().numpy()[0][0])"
      ],
      "metadata": {
        "id": "BmYW_QQ8U6Iw"
      },
      "execution_count": 111,
      "outputs": []
    },
    {
      "cell_type": "code",
      "source": [
        "# train_predict = lstm(X_ss)#forward pass\n",
        "# data_predict = train_predict.data.numpy() #numpy conversion\n",
        "dataY_plot = y['#Passengers'].values\n",
        "# data_predict = output_list\n",
        "\n",
        "data_predict = mm.inverse_transform([output_list]) #reverse transformation\n",
        "# dataY_plot = mm.inverse_transform(dataY_plot)\n",
        "plt.figure(figsize=(10,6)) #plotting\n",
        "plt.axvline(x=200, c='r', linestyle='--') #size of the training set\n",
        "\n",
        "plt.plot(dataY_plot, label='Actuall Data') #actual plot\n",
        "plt.plot(data_predict[0], label='Predicted Data') #predicted plot\n",
        "plt.title('Time-Series Prediction')\n",
        "plt.legend()\n",
        "plt.show() "
      ],
      "metadata": {
        "colab": {
          "base_uri": "https://localhost:8080/",
          "height": 389
        },
        "id": "GjdN3enAU-DR",
        "outputId": "1ce7ee4e-b01b-4ab0-8ea1-15157d267b23"
      },
      "execution_count": 112,
      "outputs": [
        {
          "output_type": "display_data",
          "data": {
            "text/plain": [
              "<Figure size 720x432 with 1 Axes>"
            ],
            "image/png": "[encoded data removed]"
          },
          "metadata": {
            "needs_background": "light"
          }
        }
      ]
    }
  ]
}
