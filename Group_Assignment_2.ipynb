{
  "nbformat": 4,
  "nbformat_minor": 0,
  "metadata": {
    "colab": {
      "provenance": []
    },
    "kernelspec": {
      "name": "python3",
      "display_name": "Python 3"
    },
    "language_info": {
      "name": "python"
    }
  },
  "cells": [
    {
      "cell_type": "markdown",
      "source": [
        "# CNN"
      ],
      "metadata": {
        "id": "kHLGkkddDJmv"
      }
    },
    {
      "cell_type": "markdown",
      "source": [
        "## 1st variation"
      ],
      "metadata": {
        "id": "vfKTLcMh7v-R"
      }
    },
    {
      "cell_type": "code",
      "execution_count": 1,
      "metadata": {
        "id": "EiF-CEj4Zh90"
      },
      "outputs": [],
      "source": [
        "import torch\n",
        "import torch.nn as nn\n",
        "import torch.nn.functional as F\n",
        "import torchvision\n",
        "import torchvision.transforms as transforms\n",
        "import torchvision.datasets as datasets\n",
        "import matplotlib.pyplot as plt\n",
        "import numpy as np\n",
        "\n",
        "\n",
        "# Device configuration\n",
        "device = torch.device('cuda' if torch.cuda.is_available() else 'cpu')"
      ]
    },
    {
      "cell_type": "code",
      "source": [
        "# Hyper-parameters of the model\n",
        "num_epochs = 4\n",
        "batch_size = 4\n",
        "learning_rate = 0.003"
      ],
      "metadata": {
        "id": "3sgqgfiHdQ92"
      },
      "execution_count": 26,
      "outputs": []
    },
    {
      "cell_type": "code",
      "source": [
        "# We transform them to Tensors of normalized range [-1, 1]\n",
        "transform = transforms.Compose(\n",
        "    [transforms.ToTensor(),   \n",
        "     transforms.Normalize((0.5), (0.5))])"
      ],
      "metadata": {
        "id": "jNzVJbcopwyR"
      },
      "execution_count": 27,
      "outputs": []
    },
    {
      "cell_type": "code",
      "source": [
        "train_dataset = torchvision.datasets.MNIST(root='path/to/dataset', download=True, transform=transform)\n",
        "\n",
        "test_dataset = torchvision.datasets.MNIST(root='path/to/dataset', download=True, transform=transform)"
      ],
      "metadata": {
        "id": "hmNbGgpoeCqA"
      },
      "execution_count": 30,
      "outputs": []
    },
    {
      "cell_type": "code",
      "source": [
        "type(train_dataset.data)"
      ],
      "metadata": {
        "colab": {
          "base_uri": "https://localhost:8080/"
        },
        "id": "phQYSm8quHyu",
        "outputId": "db6cd584-19b2-485b-b51d-786e071e6976"
      },
      "execution_count": 31,
      "outputs": [
        {
          "output_type": "execute_result",
          "data": {
            "text/plain": [
              "torch.Tensor"
            ]
          },
          "metadata": {},
          "execution_count": 31
        }
      ]
    },
    {
      "cell_type": "code",
      "source": [
        "train_loader = torch.utils.data.DataLoader(train_dataset, batch_size = batch_size, shuffle=True)\n",
        "\n",
        "test_loader = torch.utils.data.DataLoader(test_dataset, batch_size = batch_size, shuffle=False)\n",
        "\n",
        "classes = ('zero', 'one', 'two', 'three', 'four', 'five', 'six', 'seven', 'eight', 'nine')"
      ],
      "metadata": {
        "id": "rlbE2P7QfmtQ"
      },
      "execution_count": 32,
      "outputs": []
    },
    {
      "cell_type": "code",
      "source": [
        "train_loader"
      ],
      "metadata": {
        "colab": {
          "base_uri": "https://localhost:8080/"
        },
        "id": "_SgC6t9muRjD",
        "outputId": "bb804e4e-3f46-480a-99d3-0e8e5733ef4d"
      },
      "execution_count": 9,
      "outputs": [
        {
          "output_type": "execute_result",
          "data": {
            "text/plain": [
              "<torch.utils.data.dataloader.DataLoader at 0x7f10b21a4d30>"
            ]
          },
          "metadata": {},
          "execution_count": 9
        }
      ]
    },
    {
      "cell_type": "code",
      "source": [
        "# implement conv net\n",
        "class ConvNet(nn.Module):\n",
        "    def __init__(self):\n",
        "        super(ConvNet, self).__init__()\n",
        "        self.conv1 = nn.Conv2d(1, 6, 4) #1 channels, 6 filters, 4x4 filter size\n",
        "        self.pool = nn.MaxPool2d(2,2) #size 2X2, stride: 2\n",
        "        self.conv2 = nn.Conv2d(6, 16, 4)\n",
        "        self.fc1 = nn.Linear(16*4*4, 120) #16*4*4= number of output channels * dimension of the output layer after feature learning; 120 manually set as outcome of the \n",
        "        self.fc2 = nn.Linear(120, 84)\n",
        "        self.fc3 = nn.Linear(84, 10) #the output dimension (in our case 10) needs to be equal to the number of classes\n",
        "    \n",
        "    def forward(self, x):\n",
        "        x = self.pool(F.relu(self.conv1(x)))\n",
        "        x = self.pool(F.relu(self.conv2(x)))\n",
        "        x = x.view(-1, 16*4*4) #torch.view() function freshape the input tensor\n",
        "        x = F.relu(self.fc1(x))\n",
        "        x = F.relu(self.fc2(x))\n",
        "        x = self.fc3(x)\n",
        "        return x\n",
        "    \n",
        "model = ConvNet().to(device)"
      ],
      "metadata": {
        "id": "BMiO_ClLg_19"
      },
      "execution_count": 10,
      "outputs": []
    },
    {
      "cell_type": "code",
      "source": [
        "criterion = nn.CrossEntropyLoss() #CrossEntropyLoss already includes SoftMax\n",
        "optimizer = torch.optim.SGD(model.parameters(), lr=learning_rate) # Try Adam optimizer instead"
      ],
      "metadata": {
        "id": "1tkg6d-MmRau"
      },
      "execution_count": 35,
      "outputs": []
    },
    {
      "cell_type": "code",
      "source": [
        "n_total_steps = len(train_loader)\n",
        "for epoch in range(num_epochs):\n",
        "    for i, (images, labels) in enumerate(train_loader):\n",
        "\n",
        "        images = images.to(device)\n",
        "        labels = labels.to(device)\n",
        "\n",
        "        # Forward pass\n",
        "        outputs = model(images)\n",
        "        loss = criterion(outputs, labels)\n",
        "        \n",
        "        # Backward and optimize\n",
        "        optimizer.zero_grad() #with zero_grad() we ensure that the gradients are properly reset to zero at the start of each iteration\n",
        "        loss.backward()\n",
        "        optimizer.step()\n",
        "        #wandb.log({\"loss\": loss})  uncomment this line if you want to send data to weights and biases interface\n",
        "\n",
        "\n",
        "        if (i+1) % 2000 == 0:\n",
        "            print (f'Epoch [{epoch+1}/{num_epochs}], Step [{i+1}/{n_total_steps}], Loss: {loss.item():.4f}')\n",
        "            # Calculate average accuracy for every 2000 steps\n",
        "            model.eval()\n",
        "            with torch.no_grad():\n",
        "                correct = 0\n",
        "                total = 0\n",
        "                for images, labels in test_loader:\n",
        "                    images = images.to(device)\n",
        "                    labels = labels.to(device)\n",
        "                    outputs = model(images)\n",
        "                    _, predicted = torch.max(outputs.data, 1)\n",
        "                    total += labels.size(0)\n",
        "                    correct += (predicted == labels).sum().item()\n",
        "                accuracy = correct / total\n",
        "                #wandb.log({\"accuracy\": accuracy}) uncomment this line if you want to send data to weights and biases interface\n",
        "        \n",
        "print('Finished Training')\n",
        "PATH = './cnn.pth'\n",
        "torch.save(model.state_dict(), PATH)"
      ],
      "metadata": {
        "colab": {
          "base_uri": "https://localhost:8080/",
          "height": 364
        },
        "id": "CgTEn9ZVmSrJ",
        "outputId": "cc6f636a-e0a6-480d-cd93-e13a5ad36128"
      },
      "execution_count": 36,
      "outputs": [
        {
          "output_type": "error",
          "ename": "KeyboardInterrupt",
          "evalue": "ignored",
          "traceback": [
            "\u001b[0;31m---------------------------------------------------------------------------\u001b[0m",
            "\u001b[0;31mKeyboardInterrupt\u001b[0m                         Traceback (most recent call last)",
            "\u001b[0;32m<ipython-input-36-8e1ad2971b73>\u001b[0m in \u001b[0;36m<module>\u001b[0;34m\u001b[0m\n\u001b[1;32m     12\u001b[0m         \u001b[0;31m# Backward and optimize\u001b[0m\u001b[0;34m\u001b[0m\u001b[0;34m\u001b[0m\u001b[0;34m\u001b[0m\u001b[0m\n\u001b[1;32m     13\u001b[0m         \u001b[0moptimizer\u001b[0m\u001b[0;34m.\u001b[0m\u001b[0mzero_grad\u001b[0m\u001b[0;34m(\u001b[0m\u001b[0;34m)\u001b[0m \u001b[0;31m#with zero_grad() we ensure that the gradients are properly reset to zero at the start of each iteration\u001b[0m\u001b[0;34m\u001b[0m\u001b[0;34m\u001b[0m\u001b[0m\n\u001b[0;32m---> 14\u001b[0;31m         \u001b[0mloss\u001b[0m\u001b[0;34m.\u001b[0m\u001b[0mbackward\u001b[0m\u001b[0;34m(\u001b[0m\u001b[0;34m)\u001b[0m\u001b[0;34m\u001b[0m\u001b[0;34m\u001b[0m\u001b[0m\n\u001b[0m\u001b[1;32m     15\u001b[0m         \u001b[0moptimizer\u001b[0m\u001b[0;34m.\u001b[0m\u001b[0mstep\u001b[0m\u001b[0;34m(\u001b[0m\u001b[0;34m)\u001b[0m\u001b[0;34m\u001b[0m\u001b[0;34m\u001b[0m\u001b[0m\n\u001b[1;32m     16\u001b[0m         \u001b[0;31m#wandb.log({\"loss\": loss})  uncomment this line if you want to send data to weights and biases interface\u001b[0m\u001b[0;34m\u001b[0m\u001b[0;34m\u001b[0m\u001b[0;34m\u001b[0m\u001b[0m\n",
            "\u001b[0;32m/usr/local/lib/python3.8/dist-packages/torch/_tensor.py\u001b[0m in \u001b[0;36mbackward\u001b[0;34m(self, gradient, retain_graph, create_graph, inputs)\u001b[0m\n\u001b[1;32m    486\u001b[0m                 \u001b[0minputs\u001b[0m\u001b[0;34m=\u001b[0m\u001b[0minputs\u001b[0m\u001b[0;34m,\u001b[0m\u001b[0;34m\u001b[0m\u001b[0;34m\u001b[0m\u001b[0m\n\u001b[1;32m    487\u001b[0m             )\n\u001b[0;32m--> 488\u001b[0;31m         torch.autograd.backward(\n\u001b[0m\u001b[1;32m    489\u001b[0m             \u001b[0mself\u001b[0m\u001b[0;34m,\u001b[0m \u001b[0mgradient\u001b[0m\u001b[0;34m,\u001b[0m \u001b[0mretain_graph\u001b[0m\u001b[0;34m,\u001b[0m \u001b[0mcreate_graph\u001b[0m\u001b[0;34m,\u001b[0m \u001b[0minputs\u001b[0m\u001b[0;34m=\u001b[0m\u001b[0minputs\u001b[0m\u001b[0;34m\u001b[0m\u001b[0;34m\u001b[0m\u001b[0m\n\u001b[1;32m    490\u001b[0m         )\n",
            "\u001b[0;32m/usr/local/lib/python3.8/dist-packages/torch/autograd/__init__.py\u001b[0m in \u001b[0;36mbackward\u001b[0;34m(tensors, grad_tensors, retain_graph, create_graph, grad_variables, inputs)\u001b[0m\n\u001b[1;32m    195\u001b[0m     \u001b[0;31m# some Python versions print out the first line of a multi-line function\u001b[0m\u001b[0;34m\u001b[0m\u001b[0;34m\u001b[0m\u001b[0;34m\u001b[0m\u001b[0m\n\u001b[1;32m    196\u001b[0m     \u001b[0;31m# calls in the traceback and some print out the last line\u001b[0m\u001b[0;34m\u001b[0m\u001b[0;34m\u001b[0m\u001b[0;34m\u001b[0m\u001b[0m\n\u001b[0;32m--> 197\u001b[0;31m     Variable._execution_engine.run_backward(  # Calls into the C++ engine to run the backward pass\n\u001b[0m\u001b[1;32m    198\u001b[0m         \u001b[0mtensors\u001b[0m\u001b[0;34m,\u001b[0m \u001b[0mgrad_tensors_\u001b[0m\u001b[0;34m,\u001b[0m \u001b[0mretain_graph\u001b[0m\u001b[0;34m,\u001b[0m \u001b[0mcreate_graph\u001b[0m\u001b[0;34m,\u001b[0m \u001b[0minputs\u001b[0m\u001b[0;34m,\u001b[0m\u001b[0;34m\u001b[0m\u001b[0;34m\u001b[0m\u001b[0m\n\u001b[1;32m    199\u001b[0m         allow_unreachable=True, accumulate_grad=True)  # Calls into the C++ engine to run the backward pass\n",
            "\u001b[0;31mKeyboardInterrupt\u001b[0m: "
          ]
        }
      ]
    },
    {
      "cell_type": "code",
      "source": [
        "with torch.no_grad():\n",
        "    n_correct = 0\n",
        "    n_samples = 0\n",
        "    n_class_correct = [0 for i in range(10)]\n",
        "    n_class_samples = [0 for i in range(10)]\n",
        "    for images, labels in test_loader:\n",
        "        images = images.to(device)\n",
        "        labels = labels.to(device)\n",
        "        outputs = model(images)\n",
        "        # max returns (value ,index)\n",
        "        _, predicted = torch.max(outputs, 1)\n",
        "        n_samples += labels.size(0)\n",
        "        n_correct += (predicted == labels).sum().item()\n",
        "        \n",
        "        for i in range(batch_size):\n",
        "            label = labels[i]\n",
        "            pred = predicted[i]\n",
        "            if (label == pred):\n",
        "                n_class_correct[label] += 1\n",
        "            n_class_samples[label] += 1\n",
        "\n",
        "    acc = 100.0 * n_correct / n_samples\n",
        "    print(f'Accuracy of the network: {acc} %')\n",
        "\n",
        "    for i in range(10):\n",
        "        acc = 100.0 * n_class_correct[i] / n_class_samples[i]\n",
        "        print(f'Accuracy of {classes[i]}: {acc} %')"
      ],
      "metadata": {
        "colab": {
          "base_uri": "https://localhost:8080/"
        },
        "id": "NMceKvPeBRD1",
        "outputId": "9353512a-f629-4c17-b32d-b006cab5efdd"
      },
      "execution_count": 13,
      "outputs": [
        {
          "output_type": "stream",
          "name": "stdout",
          "text": [
            "Accuracy of the network: 98.44 %\n",
            "Accuracy of zero: 99.34154989025832 %\n",
            "Accuracy of one: 99.18421833283892 %\n",
            "Accuracy of two: 98.57334676065794 %\n",
            "Accuracy of three: 97.47186429619964 %\n",
            "Accuracy of four: 97.77473467990414 %\n",
            "Accuracy of five: 99.26212875853163 %\n",
            "Accuracy of six: 98.91855356539371 %\n",
            "Accuracy of seven: 99.20191540303271 %\n",
            "Accuracy of eight: 96.97487608955734 %\n",
            "Accuracy of nine: 97.62985375693394 %\n"
          ]
        }
      ]
    },
    {
      "cell_type": "markdown",
      "source": [
        "## 2nd variation"
      ],
      "metadata": {
        "id": "mcVBz7oq7-WX"
      }
    },
    {
      "cell_type": "code",
      "source": [
        "# Hyper-parameters of the model\n",
        "# increase the number of epochs to see if the model can learn more from the data.\n",
        "num_epochs = 6  \n",
        "batch_size = 4\n",
        "learning_rate = 0.003"
      ],
      "metadata": {
        "id": "eMkznqoC8Ebt"
      },
      "execution_count": 23,
      "outputs": []
    },
    {
      "cell_type": "code",
      "source": [
        "# training the network again\n",
        "n_total_steps = len(train_loader)\n",
        "for epoch in range(num_epochs):\n",
        "    for i, (images, labels) in enumerate(train_loader):\n",
        " \n",
        "        images = images.to(device)\n",
        "        labels = labels.to(device)\n",
        "\n",
        "        # Forward pass\n",
        "        outputs = model(images)\n",
        "        loss = criterion(outputs, labels)\n",
        "        \n",
        "        # Backward and optimize\n",
        "        optimizer.zero_grad() #with zero_grad() we ensure that the gradients are properly reset to zero at the start of each iteration\n",
        "        loss.backward()\n",
        "        optimizer.step()\n",
        "        #wandb.log({\"loss\": loss})  uncomment this line if you want to send data to weights and biases interface\n",
        "\n",
        "\n",
        "        if (i+1) % 2000 == 0:\n",
        "            print (f'Epoch [{epoch+1}/{num_epochs}], Step [{i+1}/{n_total_steps}], Loss: {loss.item():.4f}')\n",
        "            # Calculate average accuracy for every 2000 steps\n",
        "            model.eval()\n",
        "            with torch.no_grad():\n",
        "                correct = 0\n",
        "                total = 0\n",
        "                for images, labels in test_loader:\n",
        "                    images = images.to(device)\n",
        "                    labels = labels.to(device)\n",
        "                    outputs = model(images)\n",
        "                    _, predicted = torch.max(outputs.data, 1)\n",
        "                    total += labels.size(0)\n",
        "                    correct += (predicted == labels).sum().item()\n",
        "                accuracy = correct / total\n",
        "                #wandb.log({\"accuracy\": accuracy}) uncomment this line if you want to send data to weights and biases interface\n",
        "        \n",
        "print('Finished Training')\n",
        "PATH = './cnn.pth'\n",
        "torch.save(model.state_dict(), PATH)"
      ],
      "metadata": {
        "colab": {
          "base_uri": "https://localhost:8080/"
        },
        "id": "gzoCGi-A_c_V",
        "outputId": "7a97c813-2884-455b-c5e5-71deac960559"
      },
      "execution_count": 24,
      "outputs": [
        {
          "output_type": "stream",
          "name": "stdout",
          "text": [
            "Epoch [1/6], Step [2000/15000], Loss: 0.0002\n",
            "Epoch [1/6], Step [4000/15000], Loss: 0.0006\n",
            "Epoch [1/6], Step [6000/15000], Loss: 0.0029\n",
            "Epoch [1/6], Step [8000/15000], Loss: 0.0018\n",
            "Epoch [1/6], Step [10000/15000], Loss: 0.2271\n",
            "Epoch [1/6], Step [12000/15000], Loss: 1.0264\n",
            "Epoch [1/6], Step [14000/15000], Loss: 0.0003\n",
            "Epoch [2/6], Step [2000/15000], Loss: 0.0005\n",
            "Epoch [2/6], Step [4000/15000], Loss: 0.0001\n",
            "Epoch [2/6], Step [6000/15000], Loss: 0.0008\n",
            "Epoch [2/6], Step [8000/15000], Loss: 0.0062\n",
            "Epoch [2/6], Step [10000/15000], Loss: 0.0007\n",
            "Epoch [2/6], Step [12000/15000], Loss: 0.0004\n",
            "Epoch [2/6], Step [14000/15000], Loss: 0.0009\n",
            "Epoch [3/6], Step [2000/15000], Loss: 0.0002\n",
            "Epoch [3/6], Step [4000/15000], Loss: 0.0001\n",
            "Epoch [3/6], Step [6000/15000], Loss: 0.0005\n",
            "Epoch [3/6], Step [8000/15000], Loss: 0.0824\n",
            "Epoch [3/6], Step [10000/15000], Loss: 0.0007\n",
            "Epoch [3/6], Step [12000/15000], Loss: 0.0006\n",
            "Epoch [3/6], Step [14000/15000], Loss: 0.0056\n",
            "Epoch [4/6], Step [2000/15000], Loss: 0.0328\n",
            "Epoch [4/6], Step [4000/15000], Loss: 0.0037\n",
            "Epoch [4/6], Step [6000/15000], Loss: 0.0005\n",
            "Epoch [4/6], Step [8000/15000], Loss: 0.0471\n",
            "Epoch [4/6], Step [10000/15000], Loss: 0.0004\n",
            "Epoch [4/6], Step [12000/15000], Loss: 0.0014\n",
            "Epoch [4/6], Step [14000/15000], Loss: 0.0024\n",
            "Epoch [5/6], Step [2000/15000], Loss: 0.0043\n",
            "Epoch [5/6], Step [4000/15000], Loss: 0.0014\n",
            "Epoch [5/6], Step [6000/15000], Loss: 0.0057\n",
            "Epoch [5/6], Step [8000/15000], Loss: 0.0002\n",
            "Epoch [5/6], Step [10000/15000], Loss: 0.0013\n",
            "Epoch [5/6], Step [12000/15000], Loss: 0.0006\n",
            "Epoch [5/6], Step [14000/15000], Loss: 0.0144\n",
            "Epoch [6/6], Step [2000/15000], Loss: 0.0004\n",
            "Epoch [6/6], Step [4000/15000], Loss: 0.0019\n",
            "Epoch [6/6], Step [6000/15000], Loss: 0.0040\n",
            "Epoch [6/6], Step [8000/15000], Loss: 0.0010\n",
            "Epoch [6/6], Step [10000/15000], Loss: 0.0002\n",
            "Epoch [6/6], Step [12000/15000], Loss: 0.0032\n",
            "Epoch [6/6], Step [14000/15000], Loss: 0.1208\n",
            "Finished Training\n"
          ]
        }
      ]
    },
    {
      "cell_type": "code",
      "source": [
        "with torch.no_grad():\n",
        "    n_correct = 0\n",
        "    n_samples = 0\n",
        "    n_class_correct = [0 for i in range(10)]\n",
        "    n_class_samples = [0 for i in range(10)]\n",
        "    for images, labels in test_loader:\n",
        "        images = images.to(device)\n",
        "        labels = labels.to(device)\n",
        "        outputs = model(images)\n",
        "        # max returns (value ,index)\n",
        "        _, predicted = torch.max(outputs, 1)\n",
        "        n_samples += labels.size(0)\n",
        "        n_correct += (predicted == labels).sum().item()\n",
        "        \n",
        "        for i in range(batch_size):\n",
        "            label = labels[i]\n",
        "            pred = predicted[i]\n",
        "            if (label == pred):\n",
        "                n_class_correct[label] += 1\n",
        "            n_class_samples[label] += 1\n",
        "\n",
        "    acc = 100.0 * n_correct / n_samples\n",
        "    print(f'Accuracy of the network: {acc} %')\n",
        "\n",
        "    for i in range(10):\n",
        "        acc = 100.0 * n_class_correct[i] / n_class_samples[i]\n",
        "        print(f'Accuracy of {classes[i]}: {acc} %')"
      ],
      "metadata": {
        "colab": {
          "base_uri": "https://localhost:8080/"
        },
        "id": "WTy9yhAS_nPd",
        "outputId": "80ee7483-6ac3-43e1-d948-d01d3b90bf92"
      },
      "execution_count": 25,
      "outputs": [
        {
          "output_type": "stream",
          "name": "stdout",
          "text": [
            "Accuracy of the network: 99.41166666666666 %\n",
            "Accuracy of zero: 99.76363329393888 %\n",
            "Accuracy of one: 99.59952536339365 %\n",
            "Accuracy of two: 99.73145350788856 %\n",
            "Accuracy of three: 99.02136682433535 %\n",
            "Accuracy of four: 99.55494693598082 %\n",
            "Accuracy of five: 99.68640472237594 %\n",
            "Accuracy of six: 99.50996958431902 %\n",
            "Accuracy of seven: 99.55307262569832 %\n",
            "Accuracy of eight: 99.19671850965646 %\n",
            "Accuracy of nine: 98.50395024373844 %\n"
          ]
        }
      ]
    },
    {
      "cell_type": "markdown",
      "source": [
        "# LSTM"
      ],
      "metadata": {
        "id": "Fcb1uMK9DQDs"
      }
    },
    {
      "cell_type": "markdown",
      "source": [
        "## 1st variation"
      ],
      "metadata": {
        "id": "-YloxCtYUikE"
      }
    },
    {
      "cell_type": "code",
      "source": [
        "# import libraries\n",
        "import numpy as np\n",
        "import pandas as pd"
      ],
      "metadata": {
        "id": "F_0bmlZvDuPe"
      },
      "execution_count": 49,
      "outputs": []
    },
    {
      "cell_type": "code",
      "source": [
        "# data \n",
        "df = pd.read_csv(\"https://raw.githubusercontent.com/aaubs/ds-master/main/data/air_passengers.csv\")"
      ],
      "metadata": {
        "id": "xZqGSgOxDqn1"
      },
      "execution_count": 50,
      "outputs": []
    },
    {
      "cell_type": "code",
      "source": [
        "df.head()"
      ],
      "metadata": {
        "colab": {
          "base_uri": "https://localhost:8080/",
          "height": 201
        },
        "id": "zGLX-AfgD19N",
        "outputId": "0043fd95-6e8c-49d1-970e-1ac612e91f4c"
      },
      "execution_count": 51,
      "outputs": [
        {
          "output_type": "execute_result",
          "data": {
            "text/plain": [
              "     Month  #Passengers\n",
              "0  1949-01          112\n",
              "1  1949-02          118\n",
              "2  1949-03          132\n",
              "3  1949-04          129\n",
              "4  1949-05          121"
            ],
            "text/html": [
              "\n",
              "  <div id=\"df-796a5a63-df90-43f9-87fc-c0e8b3799dd8\">\n",
              "    <div class=\"colab-df-container\">\n",
              "      <div>\n",
              "<style scoped>\n",
              "    .dataframe tbody tr th:only-of-type {\n",
              "        vertical-align: middle;\n",
              "    }\n",
              "\n",
              "    .dataframe tbody tr th {\n",
              "        vertical-align: top;\n",
              "    }\n",
              "\n",
              "    .dataframe thead th {\n",
              "        text-align: right;\n",
              "    }\n",
              "</style>\n",
              "<table border=\"1\" class=\"dataframe\">\n",
              "  <thead>\n",
              "    <tr style=\"text-align: right;\">\n",
              "      <th></th>\n",
              "      <th>Month</th>\n",
              "      <th>#Passengers</th>\n",
              "    </tr>\n",
              "  </thead>\n",
              "  <tbody>\n",
              "    <tr>\n",
              "      <th>0</th>\n",
              "      <td>1949-01</td>\n",
              "      <td>112</td>\n",
              "    </tr>\n",
              "    <tr>\n",
              "      <th>1</th>\n",
              "      <td>1949-02</td>\n",
              "      <td>118</td>\n",
              "    </tr>\n",
              "    <tr>\n",
              "      <th>2</th>\n",
              "      <td>1949-03</td>\n",
              "      <td>132</td>\n",
              "    </tr>\n",
              "    <tr>\n",
              "      <th>3</th>\n",
              "      <td>1949-04</td>\n",
              "      <td>129</td>\n",
              "    </tr>\n",
              "    <tr>\n",
              "      <th>4</th>\n",
              "      <td>1949-05</td>\n",
              "      <td>121</td>\n",
              "    </tr>\n",
              "  </tbody>\n",
              "</table>\n",
              "</div>\n",
              "      <button class=\"colab-df-convert\" onclick=\"convertToInteractive('df-796a5a63-df90-43f9-87fc-c0e8b3799dd8')\"\n",
              "              title=\"Convert this dataframe to an interactive table.\"\n",
              "              style=\"display:none;\">\n",
              "        \n",
              "  <svg xmlns=\"http://www.w3.org/2000/svg\" height=\"24px\"viewBox=\"0 0 24 24\"\n",
              "       width=\"24px\">\n",
              "    <path d=\"M0 0h24v24H0V0z\" fill=\"none\"/>\n",
              "    <path d=\"M18.56 5.44l.94 2.06.94-2.06 2.06-.94-2.06-.94-.94-2.06-.94 2.06-2.06.94zm-11 1L8.5 8.5l.94-2.06 2.06-.94-2.06-.94L8.5 2.5l-.94 2.06-2.06.94zm10 10l.94 2.06.94-2.06 2.06-.94-2.06-.94-.94-2.06-.94 2.06-2.06.94z\"/><path d=\"M17.41 7.96l-1.37-1.37c-.4-.4-.92-.59-1.43-.59-.52 0-1.04.2-1.43.59L10.3 9.45l-7.72 7.72c-.78.78-.78 2.05 0 2.83L4 21.41c.39.39.9.59 1.41.59.51 0 1.02-.2 1.41-.59l7.78-7.78 2.81-2.81c.8-.78.8-2.07 0-2.86zM5.41 20L4 18.59l7.72-7.72 1.47 1.35L5.41 20z\"/>\n",
              "  </svg>\n",
              "      </button>\n",
              "      \n",
              "  <style>\n",
              "    .colab-df-container {\n",
              "      display:flex;\n",
              "      flex-wrap:wrap;\n",
              "      gap: 12px;\n",
              "    }\n",
              "\n",
              "    .colab-df-convert {\n",
              "      background-color: #E8F0FE;\n",
              "      border: none;\n",
              "      border-radius: 50%;\n",
              "      cursor: pointer;\n",
              "      display: none;\n",
              "      fill: #1967D2;\n",
              "      height: 32px;\n",
              "      padding: 0 0 0 0;\n",
              "      width: 32px;\n",
              "    }\n",
              "\n",
              "    .colab-df-convert:hover {\n",
              "      background-color: #E2EBFA;\n",
              "      box-shadow: 0px 1px 2px rgba(60, 64, 67, 0.3), 0px 1px 3px 1px rgba(60, 64, 67, 0.15);\n",
              "      fill: #174EA6;\n",
              "    }\n",
              "\n",
              "    [theme=dark] .colab-df-convert {\n",
              "      background-color: #3B4455;\n",
              "      fill: #D2E3FC;\n",
              "    }\n",
              "\n",
              "    [theme=dark] .colab-df-convert:hover {\n",
              "      background-color: #434B5C;\n",
              "      box-shadow: 0px 1px 3px 1px rgba(0, 0, 0, 0.15);\n",
              "      filter: drop-shadow(0px 1px 2px rgba(0, 0, 0, 0.3));\n",
              "      fill: #FFFFFF;\n",
              "    }\n",
              "  </style>\n",
              "\n",
              "      <script>\n",
              "        const buttonEl =\n",
              "          document.querySelector('#df-796a5a63-df90-43f9-87fc-c0e8b3799dd8 button.colab-df-convert');\n",
              "        buttonEl.style.display =\n",
              "          google.colab.kernel.accessAllowed ? 'block' : 'none';\n",
              "\n",
              "        async function convertToInteractive(key) {\n",
              "          const element = document.querySelector('#df-796a5a63-df90-43f9-87fc-c0e8b3799dd8');\n",
              "          const dataTable =\n",
              "            await google.colab.kernel.invokeFunction('convertToInteractive',\n",
              "                                                     [key], {});\n",
              "          if (!dataTable) return;\n",
              "\n",
              "          const docLinkHtml = 'Like what you see? Visit the ' +\n",
              "            '<a target=\"_blank\" href=https://colab.research.google.com/notebooks/data_table.ipynb>data table notebook</a>'\n",
              "            + ' to learn more about interactive tables.';\n",
              "          element.innerHTML = '';\n",
              "          dataTable['output_type'] = 'display_data';\n",
              "          await google.colab.output.renderOutput(dataTable, element);\n",
              "          const docLink = document.createElement('div');\n",
              "          docLink.innerHTML = docLinkHtml;\n",
              "          element.appendChild(docLink);\n",
              "        }\n",
              "      </script>\n",
              "    </div>\n",
              "  </div>\n",
              "  "
            ]
          },
          "metadata": {},
          "execution_count": 51
        }
      ]
    },
    {
      "cell_type": "code",
      "source": [
        "df.info()"
      ],
      "metadata": {
        "colab": {
          "base_uri": "https://localhost:8080/"
        },
        "id": "TMNvK8qZEsSl",
        "outputId": "8e682102-dae0-4d17-908c-82fda4da5951"
      },
      "execution_count": 52,
      "outputs": [
        {
          "output_type": "stream",
          "name": "stdout",
          "text": [
            "<class 'pandas.core.frame.DataFrame'>\n",
            "RangeIndex: 144 entries, 0 to 143\n",
            "Data columns (total 2 columns):\n",
            " #   Column       Non-Null Count  Dtype \n",
            "---  ------       --------------  ----- \n",
            " 0   Month        144 non-null    object\n",
            " 1   #Passengers  144 non-null    int64 \n",
            "dtypes: int64(1), object(1)\n",
            "memory usage: 2.4+ KB\n"
          ]
        }
      ]
    },
    {
      "cell_type": "code",
      "source": [
        "X = df.iloc[:, 1:2]\n",
        "y = df.iloc[:, 1:2] "
      ],
      "metadata": {
        "id": "LURMMLVPD2sh"
      },
      "execution_count": 53,
      "outputs": []
    },
    {
      "cell_type": "code",
      "source": [
        "from sklearn.preprocessing import StandardScaler, MinMaxScaler\n",
        "mm = MinMaxScaler()\n",
        "ss = StandardScaler()\n",
        "\n",
        "\n",
        "X_ss = ss.fit_transform(X)\n",
        "y_mm = mm.fit_transform(y)"
      ],
      "metadata": {
        "id": "YD7PhMeWEkLX"
      },
      "execution_count": 56,
      "outputs": []
    },
    {
      "cell_type": "code",
      "source": [
        "X_train = X_ss[:50, :]\n",
        "X_test = X_ss[50:, :]\n",
        "\n",
        "y_train = y_mm[:50, :]\n",
        "y_test = y_mm[50:, :] "
      ],
      "metadata": {
        "id": "NdaX3_ltF-z8"
      },
      "execution_count": 57,
      "outputs": []
    },
    {
      "cell_type": "code",
      "source": [
        "print(\"Training Shape\", X_train.shape, y_train.shape)\n",
        "print(\"Testing Shape\", X_test.shape, y_test.shape) "
      ],
      "metadata": {
        "colab": {
          "base_uri": "https://localhost:8080/"
        },
        "id": "gVTrKSMyGLeh",
        "outputId": "0a35d2dd-b0fd-48bd-c408-607c98072714"
      },
      "execution_count": 58,
      "outputs": [
        {
          "output_type": "stream",
          "name": "stdout",
          "text": [
            "Training Shape (50, 1) (50, 1)\n",
            "Testing Shape (94, 1) (94, 1)\n"
          ]
        }
      ]
    },
    {
      "cell_type": "code",
      "source": [
        "# import required libraries\n",
        "import torch\n",
        "import pandas as pd\n",
        "import torch.nn as nn\n",
        "import torch.optim as optim\n",
        "import numpy as np\n",
        "from torch.utils.data import DataLoader, TensorDataset\n",
        "from sklearn.preprocessing import MinMaxScaler\n",
        "import matplotlib.pyplot as plt"
      ],
      "metadata": {
        "id": "w_RkYFFwGORd"
      },
      "execution_count": 59,
      "outputs": []
    },
    {
      "cell_type": "code",
      "source": [
        "# Split the data into training and testing sets\n",
        "train_data = TensorDataset(torch.from_numpy(X_train), torch.from_numpy(y_train))\n",
        "test_data = TensorDataset(torch.from_numpy(X_test), torch.from_numpy(y_test))\n",
        "\n",
        "train_loader = DataLoader(train_data, batch_size=1, shuffle=True)\n",
        "test_loader = DataLoader(test_data, batch_size=1, shuffle=False)"
      ],
      "metadata": {
        "id": "pFJFC0mjGSBk"
      },
      "execution_count": 60,
      "outputs": []
    },
    {
      "cell_type": "code",
      "source": [
        "# Initialize the LSTM model\n",
        "# Define the input size, hidden size and number of outputs\n",
        "input_size = 1\n",
        "hidden_size = 16\n",
        "output_size = 1\n",
        "num_epochs= 10\n",
        "\n",
        "# Define the LSTM model and Linear output fully connected layer\n",
        "lstm = nn.LSTM(input_size, hidden_size, batch_first=True)\n",
        "fc = nn.Linear(hidden_size, output_size)\n",
        "\n",
        "# Define the loss function and optimizer\n",
        "criterion = nn.MSELoss()\n",
        "optimizer = optim.SGD(lstm.parameters(), lr=0.01)"
      ],
      "metadata": {
        "id": "CkY4-AxLGZqH"
      },
      "execution_count": 61,
      "outputs": []
    },
    {
      "cell_type": "code",
      "source": [
        "# Initializing Hyperparameters\n",
        "num_epochs = 100\n",
        "train_losses = []\n",
        "test_losses = []\n",
        "\n",
        "# Loop over the number of epochs\n",
        "for epoch in range(num_epochs):\n",
        "    train_loss = 0\n",
        "    # Initialize the hidden state and the cell state\n",
        "    # The hidden state and the cell state reset to zero for every epoch\n",
        "    hs = torch.zeros(1, hidden_size)\n",
        "    cs = torch.zeros(1, hidden_size)\n",
        "\n",
        "    # Get the input and target at position i\n",
        "    for i, (data, label) in enumerate(train_loader):\n",
        "        \n",
        "        hidden = (hs, cs)\n",
        "        # Run the forward pass\n",
        "        output, hidden = lstm(data.float(), hidden)\n",
        "        output = fc(hidden[-1])\n",
        "        hs = hs.detach()\n",
        "        cs = cs.detach()\n",
        "\n",
        "        # 2. Network Evaluation\n",
        "        loss = criterion(output, label.float())\n",
        "\n",
        "        # 3. Gradient Calculation\n",
        "        loss.backward()\n",
        "\n",
        "        # 4. Back Propagation\n",
        "        optimizer.step()\n",
        "        optimizer.zero_grad()\n",
        "\n",
        "        train_loss += loss.item()\n",
        "\n",
        "    # Calculate the average training loss\n",
        "    train_loss = train_loss / len(train_loader)\n",
        "    train_losses.append(train_loss)\n",
        "\n",
        "# Plot the MSE loss for each epoch\n",
        "plt.plot(train_losses)\n",
        "plt.xlabel('Epoch')\n",
        "plt.ylabel('MSE Loss')\n",
        "plt.title('Training Loss over Epochs')\n",
        "plt.show()"
      ],
      "metadata": {
        "colab": {
          "base_uri": "https://localhost:8080/",
          "height": 294
        },
        "id": "smQbmasOGdBt",
        "outputId": "0be03e13-70cf-49c5-a0a7-dd819546efb0"
      },
      "execution_count": 62,
      "outputs": [
        {
          "output_type": "display_data",
          "data": {
            "text/plain": [
              "<Figure size 432x288 with 1 Axes>"
            ],
            "image/png": "[encoded data removed]"
          },
          "metadata": {
            "needs_background": "light"
          }
        }
      ]
    },
    {
      "cell_type": "code",
      "source": [
        "# Evaluate the LSTM model\n",
        "mse = 0\n",
        "\n",
        "#By wrapping the evaluation code in a with torch.no_grad() context, \n",
        "#you can avoid unnecessary memory usage and speed up the evaluation process.\n",
        "with torch.no_grad():\n",
        "    # Initialize the hidden state and the cell state\n",
        "    # The hidden state and the cell state reset to zero for every epoch\n",
        "    hs = torch.zeros(1, hidden_size)\n",
        "    cs = torch.zeros(1, hidden_size)\n",
        "\n",
        "    for data, label in test_loader:\n",
        "        hidden = (hs, cs)\n",
        "        output, hidden = lstm(data.float(), hidden)\n",
        "        output = fc(hidden[-1])\n",
        "        hs = hs.detach()\n",
        "        cs = cs.detach()\n",
        "        \n",
        "        mse += ((output - label)**2).mean().item()\n",
        "\n",
        "mse /= len(test_loader)\n",
        "print('Test MSE: {}'.format(mse))"
      ],
      "metadata": {
        "colab": {
          "base_uri": "https://localhost:8080/"
        },
        "id": "jSwtIyxkG9C0",
        "outputId": "676c03fe-fab3-46ba-87da-1f06db1c06ed"
      },
      "execution_count": 63,
      "outputs": [
        {
          "output_type": "stream",
          "name": "stdout",
          "text": [
            "Test MSE: 0.11562723469252476\n"
          ]
        }
      ]
    },
    {
      "cell_type": "code",
      "source": [
        "output_list = []\n",
        "\n",
        "# Initialize the hidden state and the cell state\n",
        "# The hidden state and the cell state reset to zero for every epoch\n",
        "hs = torch.zeros(1, hidden_size)\n",
        "cs = torch.zeros(1, hidden_size)\n",
        "for i, (data, label) in enumerate(test_loader):\n",
        "    hidden = (hs, cs)\n",
        "    \n",
        "    # Run the forward pass\n",
        "    output, hidden = lstm(data.float(), hidden)\n",
        "    output = fc(hidden[-1])\n",
        "    hs = hs.detach()\n",
        "    cs = cs.detach()\n",
        "    output_list.append(output.detach().numpy()[0][0])\n",
        "    \n",
        "for i, (data, label) in enumerate(train_loader):\n",
        "    hidden = (hs, cs)\n",
        "\n",
        "    # Run the forward pass\n",
        "    output, hidden = lstm(data.float(), hidden)\n",
        "    output = fc(hidden[-1])\n",
        "    hs = hs.detach()\n",
        "    cs = cs.detach()\n",
        "    output_list.append(output.detach().numpy()[0][0])\n",
        "     "
      ],
      "metadata": {
        "id": "QijmSeN9HCsb"
      },
      "execution_count": 64,
      "outputs": []
    },
    {
      "cell_type": "code",
      "source": [
        "# train_predict = lstm(X_ss)#forward pass\n",
        "# data_predict = train_predict.data.numpy() #numpy conversion\n",
        "dataY_plot = y['#Passengers'].values\n",
        "# data_predict = output_list\n",
        "\n",
        "data_predict = mm.inverse_transform([output_list]) #reverse transformation\n",
        "# dataY_plot = mm.inverse_transform(dataY_plot)\n",
        "plt.figure(figsize=(10,6)) #plotting\n",
        "plt.axvline(x=200, c='r', linestyle='--') #size of the training set\n",
        "\n",
        "plt.plot(dataY_plot, label='Actuall Data') #actual plot\n",
        "plt.plot(data_predict[0], label='Predicted Data') #predicted plot\n",
        "plt.title('Time-Series Prediction')\n",
        "plt.legend()\n",
        "plt.show() "
      ],
      "metadata": {
        "colab": {
          "base_uri": "https://localhost:8080/",
          "height": 389
        },
        "id": "z-d7IiOzHNkR",
        "outputId": "e5650fc4-43cb-44a3-c055-7199fedea79d"
      },
      "execution_count": 65,
      "outputs": [
        {
          "output_type": "display_data",
          "data": {
            "text/plain": [
              "<Figure size 720x432 with 1 Axes>"
            ],
            "image/png": "[encoded data removed]"
          },
          "metadata": {
            "needs_background": "light"
          }
        }
      ]
    },
    {
      "cell_type": "code",
      "source": [
        "# Save the trained RNN model\n",
        "torch.save(lstm.state_dict(), 'lstm.pt')\n",
        "\n",
        "# Load the model\n",
        "rnn = nn.LSTM(input_size, hidden_size, batch_first=True)\n",
        "rnn.load_state_dict(torch.load('lstm.pt'))"
      ],
      "metadata": {
        "colab": {
          "base_uri": "https://localhost:8080/"
        },
        "id": "gFbM9_zPHTwO",
        "outputId": "65c692ed-2ca7-46d3-84a8-a6963b5bd810"
      },
      "execution_count": 66,
      "outputs": [
        {
          "output_type": "execute_result",
          "data": {
            "text/plain": [
              "<All keys matched successfully>"
            ]
          },
          "metadata": {},
          "execution_count": 66
        }
      ]
    },
    {
      "cell_type": "markdown",
      "source": [
        "## 2nd variation"
      ],
      "metadata": {
        "id": "ooYWVsuIUq4K"
      }
    },
    {
      "cell_type": "code",
      "source": [
        "# Initializing Hyperparameters\n",
        "num_epochs = 500\n",
        "train_losses = []\n",
        "test_losses = []\n",
        "\n",
        "# Loop over the number of epochs\n",
        "for epoch in range(num_epochs):\n",
        "    train_loss = 0\n",
        "    # Initialize the hidden state and the cell state\n",
        "    # The hidden state and the cell state reset to zero for every epoch\n",
        "    hs = torch.zeros(1, hidden_size)\n",
        "    cs = torch.zeros(1, hidden_size)\n",
        "\n",
        "    # Get the input and target at position i\n",
        "    for i, (data, label) in enumerate(train_loader):\n",
        "        \n",
        "        hidden = (hs, cs)\n",
        "        # Run the forward pass\n",
        "        output, hidden = lstm(data.float(), hidden)\n",
        "        output = fc(hidden[-1])\n",
        "        hs = hs.detach()\n",
        "        cs = cs.detach()\n",
        "\n",
        "        # 2. Network Evaluation\n",
        "        loss = criterion(output, label.float())\n",
        "\n",
        "        # 3. Gradient Calculation\n",
        "        loss.backward()\n",
        "\n",
        "        # 4. Back Propagation\n",
        "        optimizer.step()\n",
        "        optimizer.zero_grad()\n",
        "\n",
        "        train_loss += loss.item()\n",
        "\n",
        "    # Calculate the average training loss\n",
        "    train_loss = train_loss / len(train_loader)\n",
        "    train_losses.append(train_loss)\n",
        "\n",
        "# Plot the MSE loss for each epoch\n",
        "plt.plot(train_losses)\n",
        "plt.xlabel('Epoch')\n",
        "plt.ylabel('MSE Loss')\n",
        "plt.title('Training Loss over Epochs')\n",
        "plt.show()"
      ],
      "metadata": {
        "colab": {
          "base_uri": "https://localhost:8080/",
          "height": 294
        },
        "id": "WmL_CBulUsH1",
        "outputId": "1ae35912-ec22-4007-b052-f2fcb42aefe3"
      },
      "execution_count": 75,
      "outputs": [
        {
          "output_type": "display_data",
          "data": {
            "text/plain": [
              "<Figure size 432x288 with 1 Axes>"
            ],
            "image/png": "[encoded data removed]"
          },
          "metadata": {
            "needs_background": "light"
          }
        }
      ]
    },
    {
      "cell_type": "code",
      "source": [
        "# Evaluate the LSTM model\n",
        "mse = 0\n",
        "\n",
        "#By wrapping the evaluation code in a with torch.no_grad() context, \n",
        "#you can avoid unnecessary memory usage and speed up the evaluation process.\n",
        "with torch.no_grad():\n",
        "    # Initialize the hidden state and the cell state\n",
        "    # The hidden state and the cell state reset to zero for every epoch\n",
        "    hs = torch.zeros(1, hidden_size)\n",
        "    cs = torch.zeros(1, hidden_size)\n",
        "\n",
        "    for data, label in test_loader:\n",
        "        hidden = (hs, cs)\n",
        "        output, hidden = lstm(data.float(), hidden)\n",
        "        output = fc(hidden[-1])\n",
        "        hs = hs.detach()\n",
        "        cs = cs.detach()\n",
        "        \n",
        "        mse += ((output - label)**2).mean().item()\n",
        "\n",
        "mse /= len(test_loader)\n",
        "print('Test MSE: {}'.format(mse))"
      ],
      "metadata": {
        "colab": {
          "base_uri": "https://localhost:8080/"
        },
        "id": "lgDVtwkMU0-d",
        "outputId": "d04aab9c-eb05-44c6-fa87-49e30f5f25eb"
      },
      "execution_count": 76,
      "outputs": [
        {
          "output_type": "stream",
          "name": "stdout",
          "text": [
            "Test MSE: 0.017822067413962236\n"
          ]
        }
      ]
    },
    {
      "cell_type": "code",
      "source": [
        "output_list = []\n",
        "\n",
        "# Initialize the hidden state and the cell state\n",
        "# The hidden state and the cell state reset to zero for every epoch\n",
        "hs = torch.zeros(1, hidden_size)\n",
        "cs = torch.zeros(1, hidden_size)\n",
        "for i, (data, label) in enumerate(test_loader):\n",
        "    hidden = (hs, cs)\n",
        "    \n",
        "    # Run the forward pass\n",
        "    output, hidden = lstm(data.float(), hidden)\n",
        "    output = fc(hidden[-1])\n",
        "    hs = hs.detach()\n",
        "    cs = cs.detach()\n",
        "    output_list.append(output.detach().numpy()[0][0])\n",
        "    \n",
        "for i, (data, label) in enumerate(train_loader):\n",
        "    hidden = (hs, cs)\n",
        "\n",
        "    # Run the forward pass\n",
        "    output, hidden = lstm(data.float(), hidden)\n",
        "    output = fc(hidden[-1])\n",
        "    hs = hs.detach()\n",
        "    cs = cs.detach()\n",
        "    output_list.append(output.detach().numpy()[0][0])"
      ],
      "metadata": {
        "id": "BmYW_QQ8U6Iw"
      },
      "execution_count": 77,
      "outputs": []
    },
    {
      "cell_type": "code",
      "source": [
        "# train_predict = lstm(X_ss)#forward pass\n",
        "# data_predict = train_predict.data.numpy() #numpy conversion\n",
        "dataY_plot = y['#Passengers'].values\n",
        "# data_predict = output_list\n",
        "\n",
        "data_predict = mm.inverse_transform([output_list]) #reverse transformation\n",
        "# dataY_plot = mm.inverse_transform(dataY_plot)\n",
        "plt.figure(figsize=(10,6)) #plotting\n",
        "plt.axvline(x=200, c='r', linestyle='--') #size of the training set\n",
        "\n",
        "plt.plot(dataY_plot, label='Actuall Data') #actual plot\n",
        "plt.plot(data_predict[0], label='Predicted Data') #predicted plot\n",
        "plt.title('Time-Series Prediction')\n",
        "plt.legend()\n",
        "plt.show() "
      ],
      "metadata": {
        "colab": {
          "base_uri": "https://localhost:8080/",
          "height": 389
        },
        "id": "GjdN3enAU-DR",
        "outputId": "5cc3e8db-0772-4209-96dc-fb0ec8c63117"
      },
      "execution_count": 78,
      "outputs": [
        {
          "output_type": "display_data",
          "data": {
            "text/plain": [
              "<Figure size 720x432 with 1 Axes>"
            ],
            "image/png": "[encoded data removed]"
          },
          "metadata": {
            "needs_background": "light"
          }
        }
      ]
    }
  ]
}